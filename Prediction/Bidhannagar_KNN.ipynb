{
 "cells": [
  {
   "cell_type": "code",
   "execution_count": 1,
   "metadata": {},
   "outputs": [],
   "source": [
    "import pandas as pd\n",
    "import numpy as np\n",
    "import seaborn as sns\n",
    "from sklearn.neighbors import KNeighborsRegressor\n",
    "from sklearn import preprocessing\n",
    "from sklearn.metrics import r2_score\n",
    "from sklearn.model_selection import train_test_split\n",
    "from sklearn.utils import shuffle\n",
    "import warnings"
   ]
  },
  {
   "cell_type": "code",
   "execution_count": 2,
   "metadata": {},
   "outputs": [
    {
     "data": {
      "text/html": [
       "<div>\n",
       "<style scoped>\n",
       "    .dataframe tbody tr th:only-of-type {\n",
       "        vertical-align: middle;\n",
       "    }\n",
       "\n",
       "    .dataframe tbody tr th {\n",
       "        vertical-align: top;\n",
       "    }\n",
       "\n",
       "    .dataframe thead th {\n",
       "        text-align: right;\n",
       "    }\n",
       "</style>\n",
       "<table border=\"1\" class=\"dataframe\">\n",
       "  <thead>\n",
       "    <tr style=\"text-align: right;\">\n",
       "      <th></th>\n",
       "      <th>Date</th>\n",
       "      <th>PM2.5</th>\n",
       "      <th>PM10</th>\n",
       "      <th>NO2</th>\n",
       "      <th>NH3</th>\n",
       "      <th>SO2</th>\n",
       "      <th>CO</th>\n",
       "      <th>Ozone</th>\n",
       "      <th>AT</th>\n",
       "      <th>AQI</th>\n",
       "      <th>AQI_Standard</th>\n",
       "    </tr>\n",
       "  </thead>\n",
       "  <tbody>\n",
       "    <tr>\n",
       "      <th>0</th>\n",
       "      <td>2019-08-21</td>\n",
       "      <td>11.24</td>\n",
       "      <td>43.98</td>\n",
       "      <td>180.59</td>\n",
       "      <td>9.30</td>\n",
       "      <td>6.10</td>\n",
       "      <td>0.25</td>\n",
       "      <td>15.18</td>\n",
       "      <td>30.25</td>\n",
       "      <td>200.59</td>\n",
       "      <td>Poor</td>\n",
       "    </tr>\n",
       "    <tr>\n",
       "      <th>1</th>\n",
       "      <td>2019-08-22</td>\n",
       "      <td>21.28</td>\n",
       "      <td>45.70</td>\n",
       "      <td>83.86</td>\n",
       "      <td>5.42</td>\n",
       "      <td>8.01</td>\n",
       "      <td>0.18</td>\n",
       "      <td>36.86</td>\n",
       "      <td>29.28</td>\n",
       "      <td>103.86</td>\n",
       "      <td>Moderately Polluted</td>\n",
       "    </tr>\n",
       "    <tr>\n",
       "      <th>2</th>\n",
       "      <td>2019-08-23</td>\n",
       "      <td>7.80</td>\n",
       "      <td>19.51</td>\n",
       "      <td>180.59</td>\n",
       "      <td>118.91</td>\n",
       "      <td>2.12</td>\n",
       "      <td>0.20</td>\n",
       "      <td>43.98</td>\n",
       "      <td>28.81</td>\n",
       "      <td>200.59</td>\n",
       "      <td>Poor</td>\n",
       "    </tr>\n",
       "    <tr>\n",
       "      <th>3</th>\n",
       "      <td>2019-08-24</td>\n",
       "      <td>7.48</td>\n",
       "      <td>19.47</td>\n",
       "      <td>277.32</td>\n",
       "      <td>232.41</td>\n",
       "      <td>2.93</td>\n",
       "      <td>0.18</td>\n",
       "      <td>40.97</td>\n",
       "      <td>27.42</td>\n",
       "      <td>297.32</td>\n",
       "      <td>Poor</td>\n",
       "    </tr>\n",
       "    <tr>\n",
       "      <th>4</th>\n",
       "      <td>2019-08-25</td>\n",
       "      <td>7.10</td>\n",
       "      <td>16.46</td>\n",
       "      <td>33.16</td>\n",
       "      <td>38.57</td>\n",
       "      <td>1.47</td>\n",
       "      <td>0.18</td>\n",
       "      <td>62.44</td>\n",
       "      <td>27.42</td>\n",
       "      <td>62.44</td>\n",
       "      <td>Satisfactory</td>\n",
       "    </tr>\n",
       "  </tbody>\n",
       "</table>\n",
       "</div>"
      ],
      "text/plain": [
       "         Date  PM2.5   PM10     NO2     NH3   SO2    CO  Ozone     AT     AQI  \\\n",
       "0  2019-08-21  11.24  43.98  180.59    9.30  6.10  0.25  15.18  30.25  200.59   \n",
       "1  2019-08-22  21.28  45.70   83.86    5.42  8.01  0.18  36.86  29.28  103.86   \n",
       "2  2019-08-23   7.80  19.51  180.59  118.91  2.12  0.20  43.98  28.81  200.59   \n",
       "3  2019-08-24   7.48  19.47  277.32  232.41  2.93  0.18  40.97  27.42  297.32   \n",
       "4  2019-08-25   7.10  16.46   33.16   38.57  1.47  0.18  62.44  27.42   62.44   \n",
       "\n",
       "          AQI_Standard  \n",
       "0                 Poor  \n",
       "1  Moderately Polluted  \n",
       "2                 Poor  \n",
       "3                 Poor  \n",
       "4         Satisfactory  "
      ]
     },
     "execution_count": 2,
     "metadata": {},
     "output_type": "execute_result"
    }
   ],
   "source": [
    "bidhannagar = pd.read_csv('C:/Users/shova/iCloudDrive/Kolkata_data/Work/Semi_processed/Bidhannagar.csv')    # reads the bidhannagar file\n",
    "bidhannagar.head()"
   ]
  },
  {
   "cell_type": "code",
   "execution_count": 3,
   "metadata": {},
   "outputs": [
    {
     "data": {
      "text/html": [
       "<div>\n",
       "<style scoped>\n",
       "    .dataframe tbody tr th:only-of-type {\n",
       "        vertical-align: middle;\n",
       "    }\n",
       "\n",
       "    .dataframe tbody tr th {\n",
       "        vertical-align: top;\n",
       "    }\n",
       "\n",
       "    .dataframe thead th {\n",
       "        text-align: right;\n",
       "    }\n",
       "</style>\n",
       "<table border=\"1\" class=\"dataframe\">\n",
       "  <thead>\n",
       "    <tr style=\"text-align: right;\">\n",
       "      <th></th>\n",
       "      <th>Date</th>\n",
       "      <th>PM2.5</th>\n",
       "      <th>PM10</th>\n",
       "      <th>NO2</th>\n",
       "      <th>NH3</th>\n",
       "      <th>SO2</th>\n",
       "      <th>CO</th>\n",
       "      <th>Ozone</th>\n",
       "      <th>AT</th>\n",
       "      <th>AQI</th>\n",
       "      <th>AQI_Standard</th>\n",
       "      <th>month</th>\n",
       "      <th>week</th>\n",
       "      <th>week_day</th>\n",
       "    </tr>\n",
       "  </thead>\n",
       "  <tbody>\n",
       "    <tr>\n",
       "      <th>0</th>\n",
       "      <td>2019-08-21</td>\n",
       "      <td>11.24</td>\n",
       "      <td>43.98</td>\n",
       "      <td>180.59</td>\n",
       "      <td>9.30</td>\n",
       "      <td>6.10</td>\n",
       "      <td>0.25</td>\n",
       "      <td>15.18</td>\n",
       "      <td>30.25</td>\n",
       "      <td>200.59</td>\n",
       "      <td>Poor</td>\n",
       "      <td>8</td>\n",
       "      <td>34</td>\n",
       "      <td>2</td>\n",
       "    </tr>\n",
       "    <tr>\n",
       "      <th>1</th>\n",
       "      <td>2019-08-22</td>\n",
       "      <td>21.28</td>\n",
       "      <td>45.70</td>\n",
       "      <td>83.86</td>\n",
       "      <td>5.42</td>\n",
       "      <td>8.01</td>\n",
       "      <td>0.18</td>\n",
       "      <td>36.86</td>\n",
       "      <td>29.28</td>\n",
       "      <td>103.86</td>\n",
       "      <td>Moderately Polluted</td>\n",
       "      <td>8</td>\n",
       "      <td>34</td>\n",
       "      <td>3</td>\n",
       "    </tr>\n",
       "    <tr>\n",
       "      <th>2</th>\n",
       "      <td>2019-08-23</td>\n",
       "      <td>7.80</td>\n",
       "      <td>19.51</td>\n",
       "      <td>180.59</td>\n",
       "      <td>118.91</td>\n",
       "      <td>2.12</td>\n",
       "      <td>0.20</td>\n",
       "      <td>43.98</td>\n",
       "      <td>28.81</td>\n",
       "      <td>200.59</td>\n",
       "      <td>Poor</td>\n",
       "      <td>8</td>\n",
       "      <td>34</td>\n",
       "      <td>4</td>\n",
       "    </tr>\n",
       "    <tr>\n",
       "      <th>3</th>\n",
       "      <td>2019-08-24</td>\n",
       "      <td>7.48</td>\n",
       "      <td>19.47</td>\n",
       "      <td>277.32</td>\n",
       "      <td>232.41</td>\n",
       "      <td>2.93</td>\n",
       "      <td>0.18</td>\n",
       "      <td>40.97</td>\n",
       "      <td>27.42</td>\n",
       "      <td>297.32</td>\n",
       "      <td>Poor</td>\n",
       "      <td>8</td>\n",
       "      <td>34</td>\n",
       "      <td>5</td>\n",
       "    </tr>\n",
       "    <tr>\n",
       "      <th>4</th>\n",
       "      <td>2019-08-25</td>\n",
       "      <td>7.10</td>\n",
       "      <td>16.46</td>\n",
       "      <td>33.16</td>\n",
       "      <td>38.57</td>\n",
       "      <td>1.47</td>\n",
       "      <td>0.18</td>\n",
       "      <td>62.44</td>\n",
       "      <td>27.42</td>\n",
       "      <td>62.44</td>\n",
       "      <td>Satisfactory</td>\n",
       "      <td>8</td>\n",
       "      <td>34</td>\n",
       "      <td>6</td>\n",
       "    </tr>\n",
       "  </tbody>\n",
       "</table>\n",
       "</div>"
      ],
      "text/plain": [
       "        Date  PM2.5   PM10     NO2     NH3   SO2    CO  Ozone     AT     AQI  \\\n",
       "0 2019-08-21  11.24  43.98  180.59    9.30  6.10  0.25  15.18  30.25  200.59   \n",
       "1 2019-08-22  21.28  45.70   83.86    5.42  8.01  0.18  36.86  29.28  103.86   \n",
       "2 2019-08-23   7.80  19.51  180.59  118.91  2.12  0.20  43.98  28.81  200.59   \n",
       "3 2019-08-24   7.48  19.47  277.32  232.41  2.93  0.18  40.97  27.42  297.32   \n",
       "4 2019-08-25   7.10  16.46   33.16   38.57  1.47  0.18  62.44  27.42   62.44   \n",
       "\n",
       "          AQI_Standard  month  week  week_day  \n",
       "0                 Poor      8    34         2  \n",
       "1  Moderately Polluted      8    34         3  \n",
       "2                 Poor      8    34         4  \n",
       "3                 Poor      8    34         5  \n",
       "4         Satisfactory      8    34         6  "
      ]
     },
     "execution_count": 3,
     "metadata": {},
     "output_type": "execute_result"
    }
   ],
   "source": [
    "bidhannagar['Date'] = pd.to_datetime(bidhannagar['Date'], format=\"%Y-%m-%d\") # converts the date values to proper date format from string for plotting purposes\n",
    "bidhannagar[\"month\"] = bidhannagar[\"Date\"].dt.month\n",
    "bidhannagar[\"week\"] = bidhannagar[\"Date\"].dt.strftime('%V').astype('int64')\n",
    "bidhannagar[\"week_day\"] = bidhannagar[\"Date\"].dt.weekday\n",
    "bidhannagar.head()"
   ]
  },
  {
   "cell_type": "code",
   "execution_count": 4,
   "metadata": {},
   "outputs": [
    {
     "name": "stdout",
     "output_type": "stream",
     "text": [
      "<class 'pandas.core.frame.DataFrame'>\n",
      "RangeIndex: 1229 entries, 0 to 1228\n",
      "Data columns (total 14 columns):\n",
      " #   Column        Non-Null Count  Dtype         \n",
      "---  ------        --------------  -----         \n",
      " 0   Date          1229 non-null   datetime64[ns]\n",
      " 1   PM2.5         1229 non-null   float64       \n",
      " 2   PM10          1229 non-null   float64       \n",
      " 3   NO2           1229 non-null   float64       \n",
      " 4   NH3           1229 non-null   float64       \n",
      " 5   SO2           1229 non-null   float64       \n",
      " 6   CO            1229 non-null   float64       \n",
      " 7   Ozone         1229 non-null   float64       \n",
      " 8   AT            1229 non-null   float64       \n",
      " 9   AQI           1229 non-null   float64       \n",
      " 10  AQI_Standard  1229 non-null   object        \n",
      " 11  month         1229 non-null   int64         \n",
      " 12  week          1229 non-null   int64         \n",
      " 13  week_day      1229 non-null   int64         \n",
      "dtypes: datetime64[ns](1), float64(9), int64(3), object(1)\n",
      "memory usage: 134.5+ KB\n"
     ]
    }
   ],
   "source": [
    "bidhannagar.info()"
   ]
  },
  {
   "cell_type": "markdown",
   "metadata": {},
   "source": [
    "## KNN Regression"
   ]
  },
  {
   "cell_type": "code",
   "execution_count": 5,
   "metadata": {},
   "outputs": [],
   "source": [
    "model_knn = KNeighborsRegressor(n_neighbors=5)"
   ]
  },
  {
   "cell_type": "markdown",
   "metadata": {},
   "source": [
    "### PM 2.5"
   ]
  },
  {
   "cell_type": "code",
   "execution_count": 6,
   "metadata": {},
   "outputs": [
    {
     "data": {
      "text/html": [
       "<div>\n",
       "<style scoped>\n",
       "    .dataframe tbody tr th:only-of-type {\n",
       "        vertical-align: middle;\n",
       "    }\n",
       "\n",
       "    .dataframe tbody tr th {\n",
       "        vertical-align: top;\n",
       "    }\n",
       "\n",
       "    .dataframe thead th {\n",
       "        text-align: right;\n",
       "    }\n",
       "</style>\n",
       "<table border=\"1\" class=\"dataframe\">\n",
       "  <thead>\n",
       "    <tr style=\"text-align: right;\">\n",
       "      <th></th>\n",
       "      <th>month</th>\n",
       "      <th>week</th>\n",
       "      <th>week_day</th>\n",
       "      <th>PM2.5</th>\n",
       "    </tr>\n",
       "  </thead>\n",
       "  <tbody>\n",
       "    <tr>\n",
       "      <th>0</th>\n",
       "      <td>8</td>\n",
       "      <td>34</td>\n",
       "      <td>2</td>\n",
       "      <td>11.24</td>\n",
       "    </tr>\n",
       "    <tr>\n",
       "      <th>1</th>\n",
       "      <td>8</td>\n",
       "      <td>34</td>\n",
       "      <td>3</td>\n",
       "      <td>21.28</td>\n",
       "    </tr>\n",
       "    <tr>\n",
       "      <th>2</th>\n",
       "      <td>8</td>\n",
       "      <td>34</td>\n",
       "      <td>4</td>\n",
       "      <td>7.80</td>\n",
       "    </tr>\n",
       "    <tr>\n",
       "      <th>3</th>\n",
       "      <td>8</td>\n",
       "      <td>34</td>\n",
       "      <td>5</td>\n",
       "      <td>7.48</td>\n",
       "    </tr>\n",
       "    <tr>\n",
       "      <th>4</th>\n",
       "      <td>8</td>\n",
       "      <td>34</td>\n",
       "      <td>6</td>\n",
       "      <td>7.10</td>\n",
       "    </tr>\n",
       "  </tbody>\n",
       "</table>\n",
       "</div>"
      ],
      "text/plain": [
       "   month  week  week_day  PM2.5\n",
       "0      8    34         2  11.24\n",
       "1      8    34         3  21.28\n",
       "2      8    34         4   7.80\n",
       "3      8    34         5   7.48\n",
       "4      8    34         6   7.10"
      ]
     },
     "execution_count": 6,
     "metadata": {},
     "output_type": "execute_result"
    }
   ],
   "source": [
    "data_pm25 = pd.DataFrame()\n",
    "data_pm25[\"month\"] = bidhannagar[\"month\"]\n",
    "data_pm25[\"week\"] = bidhannagar[\"week\"]\n",
    "data_pm25[\"week_day\"] = bidhannagar[\"week_day\"]\n",
    "data_pm25[\"PM2.5\"] = bidhannagar[\"PM2.5\"]\n",
    "cols = data_pm25.columns\n",
    "data_pm25.head()"
   ]
  },
  {
   "cell_type": "code",
   "execution_count": 7,
   "metadata": {},
   "outputs": [
    {
     "data": {
      "text/html": [
       "<div>\n",
       "<style scoped>\n",
       "    .dataframe tbody tr th:only-of-type {\n",
       "        vertical-align: middle;\n",
       "    }\n",
       "\n",
       "    .dataframe tbody tr th {\n",
       "        vertical-align: top;\n",
       "    }\n",
       "\n",
       "    .dataframe thead th {\n",
       "        text-align: right;\n",
       "    }\n",
       "</style>\n",
       "<table border=\"1\" class=\"dataframe\">\n",
       "  <thead>\n",
       "    <tr style=\"text-align: right;\">\n",
       "      <th></th>\n",
       "      <th>month</th>\n",
       "      <th>week</th>\n",
       "      <th>week_day</th>\n",
       "      <th>PM2.5</th>\n",
       "    </tr>\n",
       "  </thead>\n",
       "  <tbody>\n",
       "    <tr>\n",
       "      <th>0</th>\n",
       "      <td>3</td>\n",
       "      <td>10</td>\n",
       "      <td>0</td>\n",
       "      <td>85.27</td>\n",
       "    </tr>\n",
       "    <tr>\n",
       "      <th>1</th>\n",
       "      <td>3</td>\n",
       "      <td>11</td>\n",
       "      <td>1</td>\n",
       "      <td>62.71</td>\n",
       "    </tr>\n",
       "    <tr>\n",
       "      <th>2</th>\n",
       "      <td>9</td>\n",
       "      <td>38</td>\n",
       "      <td>6</td>\n",
       "      <td>16.90</td>\n",
       "    </tr>\n",
       "    <tr>\n",
       "      <th>3</th>\n",
       "      <td>10</td>\n",
       "      <td>41</td>\n",
       "      <td>5</td>\n",
       "      <td>25.05</td>\n",
       "    </tr>\n",
       "    <tr>\n",
       "      <th>4</th>\n",
       "      <td>7</td>\n",
       "      <td>29</td>\n",
       "      <td>1</td>\n",
       "      <td>25.20</td>\n",
       "    </tr>\n",
       "  </tbody>\n",
       "</table>\n",
       "</div>"
      ],
      "text/plain": [
       "   month  week  week_day  PM2.5\n",
       "0      3    10         0  85.27\n",
       "1      3    11         1  62.71\n",
       "2      9    38         6  16.90\n",
       "3     10    41         5  25.05\n",
       "4      7    29         1  25.20"
      ]
     },
     "execution_count": 7,
     "metadata": {},
     "output_type": "execute_result"
    }
   ],
   "source": [
    "# shuffling the data set\n",
    "data_pm25 = shuffle(data_pm25, random_state=1).reset_index(drop=True)\n",
    "data_pm25.head()"
   ]
  },
  {
   "cell_type": "code",
   "execution_count": 8,
   "metadata": {},
   "outputs": [],
   "source": [
    "duplicate_pm25 = data_pm25.copy()"
   ]
  },
  {
   "cell_type": "code",
   "execution_count": 9,
   "metadata": {},
   "outputs": [],
   "source": [
    "#normalizing the dataset\n",
    "data_pm25 = preprocessing.normalize(data_pm25,norm='l2')\n",
    "data_pm25 = pd.DataFrame(data_pm25, columns=cols)"
   ]
  },
  {
   "cell_type": "code",
   "execution_count": 10,
   "metadata": {},
   "outputs": [],
   "source": [
    "X_pm25 = data_pm25.drop('PM2.5', axis=1) #data basically refere to the values in the independent columns\n",
    "y_pm25 = data_pm25.drop('month', axis=1).drop('week', axis=1).drop('week_day', axis=1)"
   ]
  },
  {
   "cell_type": "code",
   "execution_count": 11,
   "metadata": {},
   "outputs": [],
   "source": [
    "X_train, X_test, y_train, y_test = train_test_split(X_pm25, y_pm25, test_size=0.2, random_state=42)"
   ]
  },
  {
   "cell_type": "code",
   "execution_count": 12,
   "metadata": {},
   "outputs": [],
   "source": [
    "bidhannagar_pm25_knn = model_knn.fit(X_train, np.ravel(y_train,order='C'))"
   ]
  },
  {
   "cell_type": "code",
   "execution_count": 13,
   "metadata": {},
   "outputs": [],
   "source": [
    "predictions_pm25 = bidhannagar_pm25_knn.predict(X_test)"
   ]
  },
  {
   "cell_type": "code",
   "execution_count": 14,
   "metadata": {},
   "outputs": [
    {
     "name": "stdout",
     "output_type": "stream",
     "text": [
      "r2 score for  model is 0.9989540713357407\n"
     ]
    }
   ],
   "source": [
    "r2 = r2_score(y_test, predictions_pm25)\n",
    "print('r2 score for  model is', r2)"
   ]
  },
  {
   "cell_type": "code",
   "execution_count": 15,
   "metadata": {},
   "outputs": [
    {
     "data": {
      "text/plain": [
       "PM2.5    0.008553\n",
       "dtype: float64"
      ]
     },
     "execution_count": 15,
     "metadata": {},
     "output_type": "execute_result"
    }
   ],
   "source": [
    "#RSME - Root Mean Square Error\n",
    "predictions_pm25 = predictions_pm25.reshape(y_test.shape[0],1)\n",
    "np.sqrt(((predictions_pm25 - y_test)**2).mean())"
   ]
  },
  {
   "cell_type": "code",
   "execution_count": 16,
   "metadata": {},
   "outputs": [
    {
     "data": {
      "text/plain": [
       "<seaborn.axisgrid.FacetGrid at 0x15d0f28e040>"
      ]
     },
     "execution_count": 16,
     "metadata": {},
     "output_type": "execute_result"
    },
    {
     "data": {
      "image/png": "[encoded data removed]",
      "text/plain": [
       "<Figure size 405.725x360 with 1 Axes>"
      ]
     },
     "metadata": {
      "needs_background": "light"
     },
     "output_type": "display_data"
    },
    {
     "data": {
      "image/png": "[encoded data removed]",
      "text/plain": [
       "<Figure size 431.475x360 with 1 Axes>"
      ]
     },
     "metadata": {
      "needs_background": "light"
     },
     "output_type": "display_data"
    }
   ],
   "source": [
    "sns.set(rc={'figure.figsize':(11.7,8.27)})\n",
    "sns.displot(data = predictions_pm25)\n",
    "sns.displot(data = y_test)"
   ]
  },
  {
   "cell_type": "code",
   "execution_count": 17,
   "metadata": {},
   "outputs": [
    {
     "data": {
      "text/plain": [
       "<AxesSubplot: ylabel='Density'>"
      ]
     },
     "execution_count": 17,
     "metadata": {},
     "output_type": "execute_result"
    },
    {
     "data": {
      "image/png": "[encoded data removed]",
      "text/plain": [
       "<Figure size 842.4x595.44 with 1 Axes>"
      ]
     },
     "metadata": {},
     "output_type": "display_data"
    }
   ],
   "source": [
    "results = pd.DataFrame(predictions_pm25, columns = ['Predictions'])\n",
    "results[\"Actual\"] = list(y_test[\"PM2.5\"])\n",
    "sns.set(rc={'figure.figsize':(11.7,8.27)})\n",
    "sns.kdeplot(data=results)"
   ]
  },
  {
   "cell_type": "markdown",
   "metadata": {},
   "source": [
    "### PM10"
   ]
  },
  {
   "cell_type": "code",
   "execution_count": 18,
   "metadata": {},
   "outputs": [
    {
     "data": {
      "text/html": [
       "<div>\n",
       "<style scoped>\n",
       "    .dataframe tbody tr th:only-of-type {\n",
       "        vertical-align: middle;\n",
       "    }\n",
       "\n",
       "    .dataframe tbody tr th {\n",
       "        vertical-align: top;\n",
       "    }\n",
       "\n",
       "    .dataframe thead th {\n",
       "        text-align: right;\n",
       "    }\n",
       "</style>\n",
       "<table border=\"1\" class=\"dataframe\">\n",
       "  <thead>\n",
       "    <tr style=\"text-align: right;\">\n",
       "      <th></th>\n",
       "      <th>month</th>\n",
       "      <th>week</th>\n",
       "      <th>week_day</th>\n",
       "      <th>PM10</th>\n",
       "    </tr>\n",
       "  </thead>\n",
       "  <tbody>\n",
       "    <tr>\n",
       "      <th>0</th>\n",
       "      <td>8</td>\n",
       "      <td>34</td>\n",
       "      <td>2</td>\n",
       "      <td>43.98</td>\n",
       "    </tr>\n",
       "    <tr>\n",
       "      <th>1</th>\n",
       "      <td>8</td>\n",
       "      <td>34</td>\n",
       "      <td>3</td>\n",
       "      <td>45.70</td>\n",
       "    </tr>\n",
       "    <tr>\n",
       "      <th>2</th>\n",
       "      <td>8</td>\n",
       "      <td>34</td>\n",
       "      <td>4</td>\n",
       "      <td>19.51</td>\n",
       "    </tr>\n",
       "    <tr>\n",
       "      <th>3</th>\n",
       "      <td>8</td>\n",
       "      <td>34</td>\n",
       "      <td>5</td>\n",
       "      <td>19.47</td>\n",
       "    </tr>\n",
       "    <tr>\n",
       "      <th>4</th>\n",
       "      <td>8</td>\n",
       "      <td>34</td>\n",
       "      <td>6</td>\n",
       "      <td>16.46</td>\n",
       "    </tr>\n",
       "  </tbody>\n",
       "</table>\n",
       "</div>"
      ],
      "text/plain": [
       "   month  week  week_day   PM10\n",
       "0      8    34         2  43.98\n",
       "1      8    34         3  45.70\n",
       "2      8    34         4  19.51\n",
       "3      8    34         5  19.47\n",
       "4      8    34         6  16.46"
      ]
     },
     "execution_count": 18,
     "metadata": {},
     "output_type": "execute_result"
    }
   ],
   "source": [
    "data_pm10 = pd.DataFrame()\n",
    "data_pm10[\"month\"] = bidhannagar[\"month\"]\n",
    "data_pm10[\"week\"] = bidhannagar[\"week\"]\n",
    "data_pm10[\"week_day\"] = bidhannagar[\"week_day\"]\n",
    "data_pm10[\"PM10\"] = bidhannagar[\"PM10\"]\n",
    "cols = data_pm10.columns\n",
    "data_pm10.head()"
   ]
  },
  {
   "cell_type": "code",
   "execution_count": 19,
   "metadata": {},
   "outputs": [
    {
     "data": {
      "text/html": [
       "<div>\n",
       "<style scoped>\n",
       "    .dataframe tbody tr th:only-of-type {\n",
       "        vertical-align: middle;\n",
       "    }\n",
       "\n",
       "    .dataframe tbody tr th {\n",
       "        vertical-align: top;\n",
       "    }\n",
       "\n",
       "    .dataframe thead th {\n",
       "        text-align: right;\n",
       "    }\n",
       "</style>\n",
       "<table border=\"1\" class=\"dataframe\">\n",
       "  <thead>\n",
       "    <tr style=\"text-align: right;\">\n",
       "      <th></th>\n",
       "      <th>month</th>\n",
       "      <th>week</th>\n",
       "      <th>week_day</th>\n",
       "      <th>PM10</th>\n",
       "    </tr>\n",
       "  </thead>\n",
       "  <tbody>\n",
       "    <tr>\n",
       "      <th>0</th>\n",
       "      <td>3</td>\n",
       "      <td>10</td>\n",
       "      <td>0</td>\n",
       "      <td>157.76</td>\n",
       "    </tr>\n",
       "    <tr>\n",
       "      <th>1</th>\n",
       "      <td>3</td>\n",
       "      <td>11</td>\n",
       "      <td>1</td>\n",
       "      <td>137.72</td>\n",
       "    </tr>\n",
       "    <tr>\n",
       "      <th>2</th>\n",
       "      <td>9</td>\n",
       "      <td>38</td>\n",
       "      <td>6</td>\n",
       "      <td>37.18</td>\n",
       "    </tr>\n",
       "    <tr>\n",
       "      <th>3</th>\n",
       "      <td>10</td>\n",
       "      <td>41</td>\n",
       "      <td>5</td>\n",
       "      <td>62.07</td>\n",
       "    </tr>\n",
       "    <tr>\n",
       "      <th>4</th>\n",
       "      <td>7</td>\n",
       "      <td>29</td>\n",
       "      <td>1</td>\n",
       "      <td>58.66</td>\n",
       "    </tr>\n",
       "  </tbody>\n",
       "</table>\n",
       "</div>"
      ],
      "text/plain": [
       "   month  week  week_day    PM10\n",
       "0      3    10         0  157.76\n",
       "1      3    11         1  137.72\n",
       "2      9    38         6   37.18\n",
       "3     10    41         5   62.07\n",
       "4      7    29         1   58.66"
      ]
     },
     "execution_count": 19,
     "metadata": {},
     "output_type": "execute_result"
    }
   ],
   "source": [
    "# shuffling the data set\n",
    "data_pm10 = shuffle(data_pm10, random_state=1).reset_index(drop=True)\n",
    "data_pm10.head()"
   ]
  },
  {
   "cell_type": "code",
   "execution_count": 20,
   "metadata": {},
   "outputs": [],
   "source": [
    "duplicate_pm10 = data_pm10.copy()"
   ]
  },
  {
   "cell_type": "code",
   "execution_count": 21,
   "metadata": {},
   "outputs": [],
   "source": [
    "#normalizing the dataset\n",
    "data_pm10 = preprocessing.normalize(data_pm10,norm='l2')\n",
    "data_pm10 = pd.DataFrame(data_pm10, columns=cols)"
   ]
  },
  {
   "cell_type": "code",
   "execution_count": 22,
   "metadata": {},
   "outputs": [],
   "source": [
    "X_pm10 = data_pm10.drop('PM10', axis=1) #data basically refere to the values in the independent columns\n",
    "y_pm10 = data_pm10.drop('month', axis=1).drop('week', axis=1).drop('week_day', axis=1)"
   ]
  },
  {
   "cell_type": "code",
   "execution_count": 23,
   "metadata": {},
   "outputs": [],
   "source": [
    "X_train, X_test, y_train, y_test = train_test_split(X_pm10, y_pm10, test_size=0.2, random_state=42)"
   ]
  },
  {
   "cell_type": "code",
   "execution_count": 24,
   "metadata": {},
   "outputs": [],
   "source": [
    "bidhannagar_pm10_model_knn = model_knn.fit(X_train, np.ravel(y_train,order='C'))"
   ]
  },
  {
   "cell_type": "code",
   "execution_count": 25,
   "metadata": {},
   "outputs": [],
   "source": [
    "predictions_pm10 = bidhannagar_pm10_model_knn.predict(X_test)"
   ]
  },
  {
   "cell_type": "code",
   "execution_count": 26,
   "metadata": {},
   "outputs": [
    {
     "name": "stdout",
     "output_type": "stream",
     "text": [
      "r2 score for   model is 0.999186941198671\n"
     ]
    }
   ],
   "source": [
    "r2 = r2_score(y_test, predictions_pm10)\n",
    "print('r2 score for   model is', r2)"
   ]
  },
  {
   "cell_type": "code",
   "execution_count": 27,
   "metadata": {},
   "outputs": [
    {
     "data": {
      "text/plain": [
       "PM10    0.004638\n",
       "dtype: float64"
      ]
     },
     "execution_count": 27,
     "metadata": {},
     "output_type": "execute_result"
    }
   ],
   "source": [
    "#RSME - Root Mean Square Error\n",
    "predictions4 = predictions_pm10.reshape(y_test.shape[0],1)\n",
    "np.sqrt(((predictions4 - y_test)**2).mean())"
   ]
  },
  {
   "cell_type": "code",
   "execution_count": 28,
   "metadata": {},
   "outputs": [
    {
     "data": {
      "text/plain": [
       "<seaborn.axisgrid.FacetGrid at 0x15d13581370>"
      ]
     },
     "execution_count": 28,
     "metadata": {},
     "output_type": "execute_result"
    },
    {
     "data": {
      "image/png": "[encoded data removed]",
      "text/plain": [
       "<Figure size 360x360 with 1 Axes>"
      ]
     },
     "metadata": {},
     "output_type": "display_data"
    },
    {
     "data": {
      "image/png": "[encoded data removed]",
      "text/plain": [
       "<Figure size 428.475x360 with 1 Axes>"
      ]
     },
     "metadata": {},
     "output_type": "display_data"
    }
   ],
   "source": [
    "sns.set(rc={'figure.figsize':(11.7,8.27)})\n",
    "sns.displot(data = predictions_pm10)\n",
    "sns.displot(data = y_test)"
   ]
  },
  {
   "cell_type": "code",
   "execution_count": 29,
   "metadata": {},
   "outputs": [
    {
     "data": {
      "text/plain": [
       "<AxesSubplot: ylabel='Density'>"
      ]
     },
     "execution_count": 29,
     "metadata": {},
     "output_type": "execute_result"
    },
    {
     "data": {
      "image/png": "[encoded data removed]",
      "text/plain": [
       "<Figure size 842.4x595.44 with 1 Axes>"
      ]
     },
     "metadata": {},
     "output_type": "display_data"
    }
   ],
   "source": [
    "results = pd.DataFrame(predictions_pm10, columns = ['Predictions'])\n",
    "results[\"Actual\"] = list(y_test[\"PM10\"])\n",
    "sns.set(rc={'figure.figsize':(11.7,8.27)})\n",
    "sns.kdeplot(data=results)"
   ]
  },
  {
   "cell_type": "markdown",
   "metadata": {},
   "source": [
    "### NO2"
   ]
  },
  {
   "cell_type": "code",
   "execution_count": 30,
   "metadata": {},
   "outputs": [
    {
     "data": {
      "text/html": [
       "<div>\n",
       "<style scoped>\n",
       "    .dataframe tbody tr th:only-of-type {\n",
       "        vertical-align: middle;\n",
       "    }\n",
       "\n",
       "    .dataframe tbody tr th {\n",
       "        vertical-align: top;\n",
       "    }\n",
       "\n",
       "    .dataframe thead th {\n",
       "        text-align: right;\n",
       "    }\n",
       "</style>\n",
       "<table border=\"1\" class=\"dataframe\">\n",
       "  <thead>\n",
       "    <tr style=\"text-align: right;\">\n",
       "      <th></th>\n",
       "      <th>month</th>\n",
       "      <th>week</th>\n",
       "      <th>week_day</th>\n",
       "      <th>NO2</th>\n",
       "    </tr>\n",
       "  </thead>\n",
       "  <tbody>\n",
       "    <tr>\n",
       "      <th>0</th>\n",
       "      <td>8</td>\n",
       "      <td>34</td>\n",
       "      <td>2</td>\n",
       "      <td>180.59</td>\n",
       "    </tr>\n",
       "    <tr>\n",
       "      <th>1</th>\n",
       "      <td>8</td>\n",
       "      <td>34</td>\n",
       "      <td>3</td>\n",
       "      <td>83.86</td>\n",
       "    </tr>\n",
       "    <tr>\n",
       "      <th>2</th>\n",
       "      <td>8</td>\n",
       "      <td>34</td>\n",
       "      <td>4</td>\n",
       "      <td>180.59</td>\n",
       "    </tr>\n",
       "    <tr>\n",
       "      <th>3</th>\n",
       "      <td>8</td>\n",
       "      <td>34</td>\n",
       "      <td>5</td>\n",
       "      <td>277.32</td>\n",
       "    </tr>\n",
       "    <tr>\n",
       "      <th>4</th>\n",
       "      <td>8</td>\n",
       "      <td>34</td>\n",
       "      <td>6</td>\n",
       "      <td>33.16</td>\n",
       "    </tr>\n",
       "  </tbody>\n",
       "</table>\n",
       "</div>"
      ],
      "text/plain": [
       "   month  week  week_day     NO2\n",
       "0      8    34         2  180.59\n",
       "1      8    34         3   83.86\n",
       "2      8    34         4  180.59\n",
       "3      8    34         5  277.32\n",
       "4      8    34         6   33.16"
      ]
     },
     "execution_count": 30,
     "metadata": {},
     "output_type": "execute_result"
    }
   ],
   "source": [
    "data_no2 = pd.DataFrame()\n",
    "data_no2[\"month\"] = bidhannagar[\"month\"]\n",
    "data_no2[\"week\"] = bidhannagar[\"week\"]\n",
    "data_no2[\"week_day\"] = bidhannagar[\"week_day\"]\n",
    "data_no2[\"NO2\"] = bidhannagar[\"NO2\"]\n",
    "cols = data_no2.columns\n",
    "data_no2.head()"
   ]
  },
  {
   "cell_type": "code",
   "execution_count": 31,
   "metadata": {},
   "outputs": [
    {
     "data": {
      "text/html": [
       "<div>\n",
       "<style scoped>\n",
       "    .dataframe tbody tr th:only-of-type {\n",
       "        vertical-align: middle;\n",
       "    }\n",
       "\n",
       "    .dataframe tbody tr th {\n",
       "        vertical-align: top;\n",
       "    }\n",
       "\n",
       "    .dataframe thead th {\n",
       "        text-align: right;\n",
       "    }\n",
       "</style>\n",
       "<table border=\"1\" class=\"dataframe\">\n",
       "  <thead>\n",
       "    <tr style=\"text-align: right;\">\n",
       "      <th></th>\n",
       "      <th>month</th>\n",
       "      <th>week</th>\n",
       "      <th>week_day</th>\n",
       "      <th>NO2</th>\n",
       "    </tr>\n",
       "  </thead>\n",
       "  <tbody>\n",
       "    <tr>\n",
       "      <th>0</th>\n",
       "      <td>3</td>\n",
       "      <td>10</td>\n",
       "      <td>0</td>\n",
       "      <td>38.55</td>\n",
       "    </tr>\n",
       "    <tr>\n",
       "      <th>1</th>\n",
       "      <td>3</td>\n",
       "      <td>11</td>\n",
       "      <td>1</td>\n",
       "      <td>30.09</td>\n",
       "    </tr>\n",
       "    <tr>\n",
       "      <th>2</th>\n",
       "      <td>9</td>\n",
       "      <td>38</td>\n",
       "      <td>6</td>\n",
       "      <td>11.68</td>\n",
       "    </tr>\n",
       "    <tr>\n",
       "      <th>3</th>\n",
       "      <td>10</td>\n",
       "      <td>41</td>\n",
       "      <td>5</td>\n",
       "      <td>19.81</td>\n",
       "    </tr>\n",
       "    <tr>\n",
       "      <th>4</th>\n",
       "      <td>7</td>\n",
       "      <td>29</td>\n",
       "      <td>1</td>\n",
       "      <td>22.96</td>\n",
       "    </tr>\n",
       "  </tbody>\n",
       "</table>\n",
       "</div>"
      ],
      "text/plain": [
       "   month  week  week_day    NO2\n",
       "0      3    10         0  38.55\n",
       "1      3    11         1  30.09\n",
       "2      9    38         6  11.68\n",
       "3     10    41         5  19.81\n",
       "4      7    29         1  22.96"
      ]
     },
     "execution_count": 31,
     "metadata": {},
     "output_type": "execute_result"
    }
   ],
   "source": [
    "# shuffling the data set\n",
    "data_no2=shuffle(data_no2, random_state=1).reset_index(drop=True)\n",
    "data_no2.head()"
   ]
  },
  {
   "cell_type": "code",
   "execution_count": 32,
   "metadata": {},
   "outputs": [],
   "source": [
    "duplicate_no2 = data_no2.copy()"
   ]
  },
  {
   "cell_type": "code",
   "execution_count": 33,
   "metadata": {},
   "outputs": [],
   "source": [
    "#normalizing the dataset\n",
    "data_no2 = preprocessing.normalize(data_no2,norm='l2')\n",
    "data_no2 = pd.DataFrame(data_no2, columns=cols)"
   ]
  },
  {
   "cell_type": "code",
   "execution_count": 34,
   "metadata": {},
   "outputs": [],
   "source": [
    "X_no2 = data_no2.drop('NO2', axis=1) #data basically refere to the values in the independent columns\n",
    "y_no2 = data_no2.drop('month', axis=1).drop('week', axis=1).drop('week_day', axis=1)"
   ]
  },
  {
   "cell_type": "code",
   "execution_count": 35,
   "metadata": {},
   "outputs": [],
   "source": [
    "X_train, X_test, y_train, y_test = train_test_split(X_no2, y_no2, test_size=0.2, random_state=42)"
   ]
  },
  {
   "cell_type": "code",
   "execution_count": 36,
   "metadata": {},
   "outputs": [],
   "source": [
    "bidhannagar_no2_knn = model_knn.fit(X_train, np.ravel(y_train,order='C'))"
   ]
  },
  {
   "cell_type": "code",
   "execution_count": 37,
   "metadata": {},
   "outputs": [],
   "source": [
    "predictions_no2 = bidhannagar_no2_knn.predict(X_test)"
   ]
  },
  {
   "cell_type": "code",
   "execution_count": 38,
   "metadata": {},
   "outputs": [
    {
     "name": "stdout",
     "output_type": "stream",
     "text": [
      "r2 score for   model is 0.9982931794310759\n"
     ]
    }
   ],
   "source": [
    "r2 = r2_score(y_test, predictions_no2)\n",
    "print('r2 score for   model is', r2)"
   ]
  },
  {
   "cell_type": "code",
   "execution_count": 39,
   "metadata": {},
   "outputs": [
    {
     "data": {
      "text/plain": [
       "(246,)"
      ]
     },
     "execution_count": 39,
     "metadata": {},
     "output_type": "execute_result"
    }
   ],
   "source": [
    "predictions_no2.shape"
   ]
  },
  {
   "cell_type": "code",
   "execution_count": 40,
   "metadata": {},
   "outputs": [
    {
     "data": {
      "text/plain": [
       "NO2    0.012011\n",
       "dtype: float64"
      ]
     },
     "execution_count": 40,
     "metadata": {},
     "output_type": "execute_result"
    }
   ],
   "source": [
    "#RSME - Root Mean Square Error\n",
    "predictions5 = predictions_no2.reshape(y_test.shape[0],1)\n",
    "np.sqrt(((predictions5 - y_test)**2).mean())"
   ]
  },
  {
   "cell_type": "code",
   "execution_count": 41,
   "metadata": {},
   "outputs": [
    {
     "data": {
      "text/plain": [
       "<seaborn.axisgrid.FacetGrid at 0x15d148fafd0>"
      ]
     },
     "execution_count": 41,
     "metadata": {},
     "output_type": "execute_result"
    },
    {
     "data": {
      "image/png": "[encoded data removed]",
      "text/plain": [
       "<Figure size 360x360 with 1 Axes>"
      ]
     },
     "metadata": {},
     "output_type": "display_data"
    },
    {
     "data": {
      "image/png": "[encoded data removed]",
      "text/plain": [
       "<Figure size 422.225x360 with 1 Axes>"
      ]
     },
     "metadata": {},
     "output_type": "display_data"
    }
   ],
   "source": [
    "sns.set(rc={'figure.figsize':(11.7,8.27)})\n",
    "sns.displot(data = predictions_no2)\n",
    "sns.displot(data = y_test)"
   ]
  },
  {
   "cell_type": "code",
   "execution_count": 42,
   "metadata": {},
   "outputs": [
    {
     "data": {
      "text/plain": [
       "<AxesSubplot: ylabel='Density'>"
      ]
     },
     "execution_count": 42,
     "metadata": {},
     "output_type": "execute_result"
    },
    {
     "data": {
      "image/png": "[encoded data removed]",
      "text/plain": [
       "<Figure size 842.4x595.44 with 1 Axes>"
      ]
     },
     "metadata": {},
     "output_type": "display_data"
    }
   ],
   "source": [
    "results = pd.DataFrame(predictions_no2, columns = ['Predictions'])\n",
    "results[\"Actual\"] = list(y_test[\"NO2\"])\n",
    "sns.set(rc={'figure.figsize':(11.7,8.27)})\n",
    "sns.kdeplot(data=results)"
   ]
  },
  {
   "cell_type": "markdown",
   "metadata": {},
   "source": [
    "### NH3"
   ]
  },
  {
   "cell_type": "code",
   "execution_count": 43,
   "metadata": {},
   "outputs": [
    {
     "data": {
      "text/html": [
       "<div>\n",
       "<style scoped>\n",
       "    .dataframe tbody tr th:only-of-type {\n",
       "        vertical-align: middle;\n",
       "    }\n",
       "\n",
       "    .dataframe tbody tr th {\n",
       "        vertical-align: top;\n",
       "    }\n",
       "\n",
       "    .dataframe thead th {\n",
       "        text-align: right;\n",
       "    }\n",
       "</style>\n",
       "<table border=\"1\" class=\"dataframe\">\n",
       "  <thead>\n",
       "    <tr style=\"text-align: right;\">\n",
       "      <th></th>\n",
       "      <th>month</th>\n",
       "      <th>week</th>\n",
       "      <th>week_day</th>\n",
       "      <th>NH3</th>\n",
       "    </tr>\n",
       "  </thead>\n",
       "  <tbody>\n",
       "    <tr>\n",
       "      <th>0</th>\n",
       "      <td>8</td>\n",
       "      <td>34</td>\n",
       "      <td>2</td>\n",
       "      <td>9.30</td>\n",
       "    </tr>\n",
       "    <tr>\n",
       "      <th>1</th>\n",
       "      <td>8</td>\n",
       "      <td>34</td>\n",
       "      <td>3</td>\n",
       "      <td>5.42</td>\n",
       "    </tr>\n",
       "    <tr>\n",
       "      <th>2</th>\n",
       "      <td>8</td>\n",
       "      <td>34</td>\n",
       "      <td>4</td>\n",
       "      <td>118.91</td>\n",
       "    </tr>\n",
       "    <tr>\n",
       "      <th>3</th>\n",
       "      <td>8</td>\n",
       "      <td>34</td>\n",
       "      <td>5</td>\n",
       "      <td>232.41</td>\n",
       "    </tr>\n",
       "    <tr>\n",
       "      <th>4</th>\n",
       "      <td>8</td>\n",
       "      <td>34</td>\n",
       "      <td>6</td>\n",
       "      <td>38.57</td>\n",
       "    </tr>\n",
       "  </tbody>\n",
       "</table>\n",
       "</div>"
      ],
      "text/plain": [
       "   month  week  week_day     NH3\n",
       "0      8    34         2    9.30\n",
       "1      8    34         3    5.42\n",
       "2      8    34         4  118.91\n",
       "3      8    34         5  232.41\n",
       "4      8    34         6   38.57"
      ]
     },
     "execution_count": 43,
     "metadata": {},
     "output_type": "execute_result"
    }
   ],
   "source": [
    "data_nh3 = pd.DataFrame()\n",
    "data_nh3[\"month\"] = bidhannagar[\"month\"]\n",
    "data_nh3[\"week\"] = bidhannagar[\"week\"]\n",
    "data_nh3[\"week_day\"] = bidhannagar[\"week_day\"]\n",
    "data_nh3[\"NH3\"] = bidhannagar[\"NH3\"]\n",
    "cols = data_nh3.columns\n",
    "data_nh3.head()"
   ]
  },
  {
   "cell_type": "code",
   "execution_count": 44,
   "metadata": {},
   "outputs": [
    {
     "data": {
      "text/html": [
       "<div>\n",
       "<style scoped>\n",
       "    .dataframe tbody tr th:only-of-type {\n",
       "        vertical-align: middle;\n",
       "    }\n",
       "\n",
       "    .dataframe tbody tr th {\n",
       "        vertical-align: top;\n",
       "    }\n",
       "\n",
       "    .dataframe thead th {\n",
       "        text-align: right;\n",
       "    }\n",
       "</style>\n",
       "<table border=\"1\" class=\"dataframe\">\n",
       "  <thead>\n",
       "    <tr style=\"text-align: right;\">\n",
       "      <th></th>\n",
       "      <th>month</th>\n",
       "      <th>week</th>\n",
       "      <th>week_day</th>\n",
       "      <th>NH3</th>\n",
       "    </tr>\n",
       "  </thead>\n",
       "  <tbody>\n",
       "    <tr>\n",
       "      <th>0</th>\n",
       "      <td>3</td>\n",
       "      <td>10</td>\n",
       "      <td>0</td>\n",
       "      <td>33.63</td>\n",
       "    </tr>\n",
       "    <tr>\n",
       "      <th>1</th>\n",
       "      <td>3</td>\n",
       "      <td>11</td>\n",
       "      <td>1</td>\n",
       "      <td>13.78</td>\n",
       "    </tr>\n",
       "    <tr>\n",
       "      <th>2</th>\n",
       "      <td>9</td>\n",
       "      <td>38</td>\n",
       "      <td>6</td>\n",
       "      <td>12.52</td>\n",
       "    </tr>\n",
       "    <tr>\n",
       "      <th>3</th>\n",
       "      <td>10</td>\n",
       "      <td>41</td>\n",
       "      <td>5</td>\n",
       "      <td>12.49</td>\n",
       "    </tr>\n",
       "    <tr>\n",
       "      <th>4</th>\n",
       "      <td>7</td>\n",
       "      <td>29</td>\n",
       "      <td>1</td>\n",
       "      <td>12.08</td>\n",
       "    </tr>\n",
       "  </tbody>\n",
       "</table>\n",
       "</div>"
      ],
      "text/plain": [
       "   month  week  week_day    NH3\n",
       "0      3    10         0  33.63\n",
       "1      3    11         1  13.78\n",
       "2      9    38         6  12.52\n",
       "3     10    41         5  12.49\n",
       "4      7    29         1  12.08"
      ]
     },
     "execution_count": 44,
     "metadata": {},
     "output_type": "execute_result"
    }
   ],
   "source": [
    "# shuffling the data set\n",
    "data_nh3 = shuffle(data_nh3, random_state=1).reset_index(drop=True)\n",
    "data_nh3.head()"
   ]
  },
  {
   "cell_type": "code",
   "execution_count": 45,
   "metadata": {},
   "outputs": [],
   "source": [
    "duplicate_nh3 = data_nh3.copy()"
   ]
  },
  {
   "cell_type": "code",
   "execution_count": 46,
   "metadata": {},
   "outputs": [],
   "source": [
    "#normalizing the dataset\n",
    "data_nh3 = preprocessing.normalize(data_nh3,norm='l2')\n",
    "data_nh3 = pd.DataFrame(data_nh3, columns=cols)"
   ]
  },
  {
   "cell_type": "code",
   "execution_count": 47,
   "metadata": {},
   "outputs": [],
   "source": [
    "X_nh3 = data_nh3.drop('NH3', axis=1) #data basically refere to the values in the independent columns\n",
    "y_nh3 = data_nh3.drop('month', axis=1).drop('week', axis=1).drop('week_day', axis=1)"
   ]
  },
  {
   "cell_type": "code",
   "execution_count": 48,
   "metadata": {},
   "outputs": [],
   "source": [
    "X_train, X_test, y_train, y_test = train_test_split(X_nh3, y_nh3, test_size=0.2, random_state=42)"
   ]
  },
  {
   "cell_type": "code",
   "execution_count": 49,
   "metadata": {},
   "outputs": [],
   "source": [
    "bidhannagar_nh3_knn = model_knn.fit(X_train, np.ravel(y_train,order='C'))"
   ]
  },
  {
   "cell_type": "code",
   "execution_count": 50,
   "metadata": {},
   "outputs": [],
   "source": [
    "predictions_nh3 = bidhannagar_nh3_knn.predict(X_test)"
   ]
  },
  {
   "cell_type": "code",
   "execution_count": 51,
   "metadata": {},
   "outputs": [
    {
     "name": "stdout",
     "output_type": "stream",
     "text": [
      "r2 score for   model is 0.9980473455624598\n"
     ]
    }
   ],
   "source": [
    "r2 = r2_score(y_test, predictions_nh3)\n",
    "print('r2 score for   model is', r2)"
   ]
  },
  {
   "cell_type": "code",
   "execution_count": 52,
   "metadata": {},
   "outputs": [
    {
     "data": {
      "text/plain": [
       "(246,)"
      ]
     },
     "execution_count": 52,
     "metadata": {},
     "output_type": "execute_result"
    }
   ],
   "source": [
    "predictions_nh3.shape"
   ]
  },
  {
   "cell_type": "code",
   "execution_count": 53,
   "metadata": {},
   "outputs": [
    {
     "data": {
      "text/plain": [
       "NH3    0.012198\n",
       "dtype: float64"
      ]
     },
     "execution_count": 53,
     "metadata": {},
     "output_type": "execute_result"
    }
   ],
   "source": [
    "#RSME - Root Mean Square Error\n",
    "predictions5 = predictions_nh3.reshape(y_test.shape[0],1)\n",
    "np.sqrt(((predictions5 - y_test)**2).mean())"
   ]
  },
  {
   "cell_type": "code",
   "execution_count": 54,
   "metadata": {},
   "outputs": [
    {
     "data": {
      "text/plain": [
       "<seaborn.axisgrid.FacetGrid at 0x15d137027f0>"
      ]
     },
     "execution_count": 54,
     "metadata": {},
     "output_type": "execute_result"
    },
    {
     "data": {
      "image/png": "[encoded data removed]",
      "text/plain": [
       "<Figure size 360x360 with 1 Axes>"
      ]
     },
     "metadata": {},
     "output_type": "display_data"
    },
    {
     "data": {
      "image/png": "[encoded data removed]",
      "text/plain": [
       "<Figure size 421.6x360 with 1 Axes>"
      ]
     },
     "metadata": {},
     "output_type": "display_data"
    }
   ],
   "source": [
    "sns.set(rc={'figure.figsize':(11.7,8.27)})\n",
    "sns.displot(data = predictions_nh3)\n",
    "sns.displot(data = y_test)"
   ]
  },
  {
   "cell_type": "code",
   "execution_count": 55,
   "metadata": {},
   "outputs": [
    {
     "data": {
      "text/plain": [
       "<AxesSubplot: ylabel='Density'>"
      ]
     },
     "execution_count": 55,
     "metadata": {},
     "output_type": "execute_result"
    },
    {
     "data": {
      "image/png": "[encoded data removed]",
      "text/plain": [
       "<Figure size 842.4x595.44 with 1 Axes>"
      ]
     },
     "metadata": {},
     "output_type": "display_data"
    }
   ],
   "source": [
    "results = pd.DataFrame(predictions_nh3, columns = ['Predictions'])\n",
    "results[\"Actual\"] = list(y_test[\"NH3\"])\n",
    "sns.set(rc={'figure.figsize':(11.7,8.27)})\n",
    "sns.kdeplot(data=results)"
   ]
  },
  {
   "cell_type": "markdown",
   "metadata": {},
   "source": [
    "### SO2"
   ]
  },
  {
   "cell_type": "code",
   "execution_count": 56,
   "metadata": {},
   "outputs": [
    {
     "data": {
      "text/html": [
       "<div>\n",
       "<style scoped>\n",
       "    .dataframe tbody tr th:only-of-type {\n",
       "        vertical-align: middle;\n",
       "    }\n",
       "\n",
       "    .dataframe tbody tr th {\n",
       "        vertical-align: top;\n",
       "    }\n",
       "\n",
       "    .dataframe thead th {\n",
       "        text-align: right;\n",
       "    }\n",
       "</style>\n",
       "<table border=\"1\" class=\"dataframe\">\n",
       "  <thead>\n",
       "    <tr style=\"text-align: right;\">\n",
       "      <th></th>\n",
       "      <th>month</th>\n",
       "      <th>week</th>\n",
       "      <th>week_day</th>\n",
       "      <th>SO2</th>\n",
       "    </tr>\n",
       "  </thead>\n",
       "  <tbody>\n",
       "    <tr>\n",
       "      <th>0</th>\n",
       "      <td>8</td>\n",
       "      <td>34</td>\n",
       "      <td>2</td>\n",
       "      <td>6.10</td>\n",
       "    </tr>\n",
       "    <tr>\n",
       "      <th>1</th>\n",
       "      <td>8</td>\n",
       "      <td>34</td>\n",
       "      <td>3</td>\n",
       "      <td>8.01</td>\n",
       "    </tr>\n",
       "    <tr>\n",
       "      <th>2</th>\n",
       "      <td>8</td>\n",
       "      <td>34</td>\n",
       "      <td>4</td>\n",
       "      <td>2.12</td>\n",
       "    </tr>\n",
       "    <tr>\n",
       "      <th>3</th>\n",
       "      <td>8</td>\n",
       "      <td>34</td>\n",
       "      <td>5</td>\n",
       "      <td>2.93</td>\n",
       "    </tr>\n",
       "    <tr>\n",
       "      <th>4</th>\n",
       "      <td>8</td>\n",
       "      <td>34</td>\n",
       "      <td>6</td>\n",
       "      <td>1.47</td>\n",
       "    </tr>\n",
       "  </tbody>\n",
       "</table>\n",
       "</div>"
      ],
      "text/plain": [
       "   month  week  week_day   SO2\n",
       "0      8    34         2  6.10\n",
       "1      8    34         3  8.01\n",
       "2      8    34         4  2.12\n",
       "3      8    34         5  2.93\n",
       "4      8    34         6  1.47"
      ]
     },
     "execution_count": 56,
     "metadata": {},
     "output_type": "execute_result"
    }
   ],
   "source": [
    "data_so2 = pd.DataFrame()\n",
    "data_so2[\"month\"] = bidhannagar[\"month\"]\n",
    "data_so2[\"week\"] = bidhannagar[\"week\"]\n",
    "data_so2[\"week_day\"] = bidhannagar[\"week_day\"]\n",
    "data_so2[\"SO2\"] = bidhannagar[\"SO2\"]\n",
    "cols = data_so2.columns\n",
    "data_so2.head()"
   ]
  },
  {
   "cell_type": "code",
   "execution_count": 57,
   "metadata": {},
   "outputs": [
    {
     "data": {
      "text/html": [
       "<div>\n",
       "<style scoped>\n",
       "    .dataframe tbody tr th:only-of-type {\n",
       "        vertical-align: middle;\n",
       "    }\n",
       "\n",
       "    .dataframe tbody tr th {\n",
       "        vertical-align: top;\n",
       "    }\n",
       "\n",
       "    .dataframe thead th {\n",
       "        text-align: right;\n",
       "    }\n",
       "</style>\n",
       "<table border=\"1\" class=\"dataframe\">\n",
       "  <thead>\n",
       "    <tr style=\"text-align: right;\">\n",
       "      <th></th>\n",
       "      <th>month</th>\n",
       "      <th>week</th>\n",
       "      <th>week_day</th>\n",
       "      <th>SO2</th>\n",
       "    </tr>\n",
       "  </thead>\n",
       "  <tbody>\n",
       "    <tr>\n",
       "      <th>0</th>\n",
       "      <td>3</td>\n",
       "      <td>10</td>\n",
       "      <td>0</td>\n",
       "      <td>15.85</td>\n",
       "    </tr>\n",
       "    <tr>\n",
       "      <th>1</th>\n",
       "      <td>3</td>\n",
       "      <td>11</td>\n",
       "      <td>1</td>\n",
       "      <td>18.29</td>\n",
       "    </tr>\n",
       "    <tr>\n",
       "      <th>2</th>\n",
       "      <td>9</td>\n",
       "      <td>38</td>\n",
       "      <td>6</td>\n",
       "      <td>7.66</td>\n",
       "    </tr>\n",
       "    <tr>\n",
       "      <th>3</th>\n",
       "      <td>10</td>\n",
       "      <td>41</td>\n",
       "      <td>5</td>\n",
       "      <td>5.75</td>\n",
       "    </tr>\n",
       "    <tr>\n",
       "      <th>4</th>\n",
       "      <td>7</td>\n",
       "      <td>29</td>\n",
       "      <td>1</td>\n",
       "      <td>3.35</td>\n",
       "    </tr>\n",
       "  </tbody>\n",
       "</table>\n",
       "</div>"
      ],
      "text/plain": [
       "   month  week  week_day    SO2\n",
       "0      3    10         0  15.85\n",
       "1      3    11         1  18.29\n",
       "2      9    38         6   7.66\n",
       "3     10    41         5   5.75\n",
       "4      7    29         1   3.35"
      ]
     },
     "execution_count": 57,
     "metadata": {},
     "output_type": "execute_result"
    }
   ],
   "source": [
    "# shuffling the data set\n",
    "data_so2 = shuffle(data_so2, random_state=1).reset_index(drop=True)\n",
    "data_so2.head()"
   ]
  },
  {
   "cell_type": "code",
   "execution_count": 58,
   "metadata": {},
   "outputs": [],
   "source": [
    "duplicate_so2 = data_so2.copy()"
   ]
  },
  {
   "cell_type": "code",
   "execution_count": 59,
   "metadata": {},
   "outputs": [],
   "source": [
    "#normalizing the dataset\n",
    "data_so2 = preprocessing.normalize(data_so2,norm='l2')\n",
    "data_so2 = pd.DataFrame(data_so2, columns=cols)"
   ]
  },
  {
   "cell_type": "code",
   "execution_count": 60,
   "metadata": {},
   "outputs": [],
   "source": [
    "X_so2 = data_so2.drop('SO2', axis=1) #data basically refere to the values in the independent columns\n",
    "y_so2 = data_so2.drop('month', axis=1).drop('week', axis=1).drop('week_day', axis=1)"
   ]
  },
  {
   "cell_type": "code",
   "execution_count": 61,
   "metadata": {},
   "outputs": [],
   "source": [
    "X_train, X_test, y_train, y_test = train_test_split(X_so2, y_so2, test_size=0.2, random_state=42)"
   ]
  },
  {
   "cell_type": "code",
   "execution_count": 62,
   "metadata": {},
   "outputs": [],
   "source": [
    "bidhannagar_so2_knn = model_knn.fit(X_train, np.ravel(y_train,order='C'))"
   ]
  },
  {
   "cell_type": "code",
   "execution_count": 63,
   "metadata": {},
   "outputs": [],
   "source": [
    "predictions_so2 = bidhannagar_so2_knn.predict(X_test)"
   ]
  },
  {
   "cell_type": "code",
   "execution_count": 64,
   "metadata": {},
   "outputs": [
    {
     "name": "stdout",
     "output_type": "stream",
     "text": [
      "r2 score for   model is 0.9980372566121537\n"
     ]
    }
   ],
   "source": [
    "r2 = r2_score(y_test, predictions_so2)\n",
    "print('r2 score for   model is', r2)"
   ]
  },
  {
   "cell_type": "code",
   "execution_count": 65,
   "metadata": {},
   "outputs": [
    {
     "data": {
      "text/plain": [
       "(246,)"
      ]
     },
     "execution_count": 65,
     "metadata": {},
     "output_type": "execute_result"
    }
   ],
   "source": [
    "predictions_so2.shape"
   ]
  },
  {
   "cell_type": "code",
   "execution_count": 66,
   "metadata": {},
   "outputs": [
    {
     "data": {
      "text/plain": [
       "SO2    0.012295\n",
       "dtype: float64"
      ]
     },
     "execution_count": 66,
     "metadata": {},
     "output_type": "execute_result"
    }
   ],
   "source": [
    "#RSME - Root Mean Square Error\n",
    "predictions5 = predictions_so2.reshape(y_test.shape[0],1)\n",
    "np.sqrt(((predictions5 - y_test)**2).mean())"
   ]
  },
  {
   "cell_type": "code",
   "execution_count": 67,
   "metadata": {},
   "outputs": [
    {
     "data": {
      "text/plain": [
       "<seaborn.axisgrid.FacetGrid at 0x15d14aac760>"
      ]
     },
     "execution_count": 67,
     "metadata": {},
     "output_type": "execute_result"
    },
    {
     "data": {
      "image/png": "[encoded data removed]",
      "text/plain": [
       "<Figure size 360x360 with 1 Axes>"
      ]
     },
     "metadata": {},
     "output_type": "display_data"
    },
    {
     "data": {
      "image/png": "[encoded data removed]",
      "text/plain": [
       "<Figure size 421.6x360 with 1 Axes>"
      ]
     },
     "metadata": {},
     "output_type": "display_data"
    }
   ],
   "source": [
    "sns.set(rc={'figure.figsize':(11.7,8.27)})\n",
    "sns.displot(data = predictions_so2)\n",
    "sns.displot(data = y_test)"
   ]
  },
  {
   "cell_type": "code",
   "execution_count": 68,
   "metadata": {},
   "outputs": [
    {
     "data": {
      "text/plain": [
       "<AxesSubplot: ylabel='Density'>"
      ]
     },
     "execution_count": 68,
     "metadata": {},
     "output_type": "execute_result"
    },
    {
     "data": {
      "image/png": "[encoded data removed]",
      "text/plain": [
       "<Figure size 842.4x595.44 with 1 Axes>"
      ]
     },
     "metadata": {},
     "output_type": "display_data"
    }
   ],
   "source": [
    "results = pd.DataFrame(predictions_so2, columns = ['Predictions'])\n",
    "results[\"Actual\"] = list(y_test[\"SO2\"])\n",
    "sns.set(rc={'figure.figsize':(11.7,8.27)})\n",
    "sns.kdeplot(data=results)"
   ]
  },
  {
   "cell_type": "markdown",
   "metadata": {},
   "source": [
    "### CO"
   ]
  },
  {
   "cell_type": "code",
   "execution_count": 69,
   "metadata": {},
   "outputs": [
    {
     "data": {
      "text/html": [
       "<div>\n",
       "<style scoped>\n",
       "    .dataframe tbody tr th:only-of-type {\n",
       "        vertical-align: middle;\n",
       "    }\n",
       "\n",
       "    .dataframe tbody tr th {\n",
       "        vertical-align: top;\n",
       "    }\n",
       "\n",
       "    .dataframe thead th {\n",
       "        text-align: right;\n",
       "    }\n",
       "</style>\n",
       "<table border=\"1\" class=\"dataframe\">\n",
       "  <thead>\n",
       "    <tr style=\"text-align: right;\">\n",
       "      <th></th>\n",
       "      <th>month</th>\n",
       "      <th>week</th>\n",
       "      <th>week_day</th>\n",
       "      <th>CO</th>\n",
       "    </tr>\n",
       "  </thead>\n",
       "  <tbody>\n",
       "    <tr>\n",
       "      <th>0</th>\n",
       "      <td>8</td>\n",
       "      <td>34</td>\n",
       "      <td>2</td>\n",
       "      <td>0.25</td>\n",
       "    </tr>\n",
       "    <tr>\n",
       "      <th>1</th>\n",
       "      <td>8</td>\n",
       "      <td>34</td>\n",
       "      <td>3</td>\n",
       "      <td>0.18</td>\n",
       "    </tr>\n",
       "    <tr>\n",
       "      <th>2</th>\n",
       "      <td>8</td>\n",
       "      <td>34</td>\n",
       "      <td>4</td>\n",
       "      <td>0.20</td>\n",
       "    </tr>\n",
       "    <tr>\n",
       "      <th>3</th>\n",
       "      <td>8</td>\n",
       "      <td>34</td>\n",
       "      <td>5</td>\n",
       "      <td>0.18</td>\n",
       "    </tr>\n",
       "    <tr>\n",
       "      <th>4</th>\n",
       "      <td>8</td>\n",
       "      <td>34</td>\n",
       "      <td>6</td>\n",
       "      <td>0.18</td>\n",
       "    </tr>\n",
       "  </tbody>\n",
       "</table>\n",
       "</div>"
      ],
      "text/plain": [
       "   month  week  week_day    CO\n",
       "0      8    34         2  0.25\n",
       "1      8    34         3  0.18\n",
       "2      8    34         4  0.20\n",
       "3      8    34         5  0.18\n",
       "4      8    34         6  0.18"
      ]
     },
     "execution_count": 69,
     "metadata": {},
     "output_type": "execute_result"
    }
   ],
   "source": [
    "data_co = pd.DataFrame()\n",
    "data_co[\"month\"] = bidhannagar[\"month\"]\n",
    "data_co[\"week\"] = bidhannagar[\"week\"]\n",
    "data_co[\"week_day\"] = bidhannagar[\"week_day\"]\n",
    "data_co[\"CO\"] = bidhannagar[\"CO\"]\n",
    "cols = data_co.columns\n",
    "data_co.head()"
   ]
  },
  {
   "cell_type": "code",
   "execution_count": 70,
   "metadata": {},
   "outputs": [
    {
     "data": {
      "text/html": [
       "<div>\n",
       "<style scoped>\n",
       "    .dataframe tbody tr th:only-of-type {\n",
       "        vertical-align: middle;\n",
       "    }\n",
       "\n",
       "    .dataframe tbody tr th {\n",
       "        vertical-align: top;\n",
       "    }\n",
       "\n",
       "    .dataframe thead th {\n",
       "        text-align: right;\n",
       "    }\n",
       "</style>\n",
       "<table border=\"1\" class=\"dataframe\">\n",
       "  <thead>\n",
       "    <tr style=\"text-align: right;\">\n",
       "      <th></th>\n",
       "      <th>month</th>\n",
       "      <th>week</th>\n",
       "      <th>week_day</th>\n",
       "      <th>CO</th>\n",
       "    </tr>\n",
       "  </thead>\n",
       "  <tbody>\n",
       "    <tr>\n",
       "      <th>0</th>\n",
       "      <td>3</td>\n",
       "      <td>10</td>\n",
       "      <td>0</td>\n",
       "      <td>0.77</td>\n",
       "    </tr>\n",
       "    <tr>\n",
       "      <th>1</th>\n",
       "      <td>3</td>\n",
       "      <td>11</td>\n",
       "      <td>1</td>\n",
       "      <td>0.45</td>\n",
       "    </tr>\n",
       "    <tr>\n",
       "      <th>2</th>\n",
       "      <td>9</td>\n",
       "      <td>38</td>\n",
       "      <td>6</td>\n",
       "      <td>0.23</td>\n",
       "    </tr>\n",
       "    <tr>\n",
       "      <th>3</th>\n",
       "      <td>10</td>\n",
       "      <td>41</td>\n",
       "      <td>5</td>\n",
       "      <td>0.69</td>\n",
       "    </tr>\n",
       "    <tr>\n",
       "      <th>4</th>\n",
       "      <td>7</td>\n",
       "      <td>29</td>\n",
       "      <td>1</td>\n",
       "      <td>0.08</td>\n",
       "    </tr>\n",
       "  </tbody>\n",
       "</table>\n",
       "</div>"
      ],
      "text/plain": [
       "   month  week  week_day    CO\n",
       "0      3    10         0  0.77\n",
       "1      3    11         1  0.45\n",
       "2      9    38         6  0.23\n",
       "3     10    41         5  0.69\n",
       "4      7    29         1  0.08"
      ]
     },
     "execution_count": 70,
     "metadata": {},
     "output_type": "execute_result"
    }
   ],
   "source": [
    "# shuffling the data set\n",
    "data_co = shuffle(data_co, random_state=1).reset_index(drop=True)\n",
    "data_co.head()"
   ]
  },
  {
   "cell_type": "code",
   "execution_count": 71,
   "metadata": {},
   "outputs": [],
   "source": [
    "duplicate_co = data_co.copy()"
   ]
  },
  {
   "cell_type": "code",
   "execution_count": 72,
   "metadata": {},
   "outputs": [],
   "source": [
    "#normalizing the dataset\n",
    "data_co = preprocessing.normalize(data_co,norm='l2')\n",
    "data_co = pd.DataFrame(data_co, columns=cols)"
   ]
  },
  {
   "cell_type": "code",
   "execution_count": 73,
   "metadata": {},
   "outputs": [],
   "source": [
    "X_co = data_co.drop('CO', axis=1) #data basically refere to the values in the independent columns\n",
    "y_co = data_co.drop('month', axis=1).drop('week', axis=1).drop('week_day', axis=1)"
   ]
  },
  {
   "cell_type": "code",
   "execution_count": 74,
   "metadata": {},
   "outputs": [],
   "source": [
    "X_train, X_test, y_train, y_test = train_test_split(X_co, y_co, test_size=0.2, random_state=42)"
   ]
  },
  {
   "cell_type": "code",
   "execution_count": 75,
   "metadata": {},
   "outputs": [],
   "source": [
    "bidhannagar_co_knn = model_knn.fit(X_train, np.ravel(y_train,order='C'))"
   ]
  },
  {
   "cell_type": "code",
   "execution_count": 76,
   "metadata": {},
   "outputs": [],
   "source": [
    "predictions_co = bidhannagar_co_knn.predict(X_test)"
   ]
  },
  {
   "cell_type": "code",
   "execution_count": 77,
   "metadata": {},
   "outputs": [
    {
     "name": "stdout",
     "output_type": "stream",
     "text": [
      "r2 score for   model is 0.42626493377553754\n"
     ]
    }
   ],
   "source": [
    "r2 = r2_score(y_test, predictions_co)\n",
    "print('r2 score for   model is', r2)"
   ]
  },
  {
   "cell_type": "code",
   "execution_count": 78,
   "metadata": {},
   "outputs": [
    {
     "data": {
      "text/plain": [
       "(246,)"
      ]
     },
     "execution_count": 78,
     "metadata": {},
     "output_type": "execute_result"
    }
   ],
   "source": [
    "predictions_so2.shape"
   ]
  },
  {
   "cell_type": "code",
   "execution_count": 79,
   "metadata": {},
   "outputs": [
    {
     "data": {
      "text/plain": [
       "CO    0.440019\n",
       "dtype: float64"
      ]
     },
     "execution_count": 79,
     "metadata": {},
     "output_type": "execute_result"
    }
   ],
   "source": [
    "#RSME - Root Mean Square Error\n",
    "predictions5 = predictions_so2.reshape(y_test.shape[0],1)\n",
    "np.sqrt(((predictions5 - y_test)**2).mean())"
   ]
  },
  {
   "cell_type": "code",
   "execution_count": 80,
   "metadata": {},
   "outputs": [
    {
     "data": {
      "text/plain": [
       "<seaborn.axisgrid.FacetGrid at 0x15d14f97d00>"
      ]
     },
     "execution_count": 80,
     "metadata": {},
     "output_type": "execute_result"
    },
    {
     "data": {
      "image/png": "[encoded data removed]",
      "text/plain": [
       "<Figure size 360x360 with 1 Axes>"
      ]
     },
     "metadata": {},
     "output_type": "display_data"
    },
    {
     "data": {
      "image/png": "[encoded data removed]",
      "text/plain": [
       "<Figure size 416.1x360 with 1 Axes>"
      ]
     },
     "metadata": {},
     "output_type": "display_data"
    }
   ],
   "source": [
    "sns.set(rc={'figure.figsize':(11.7,8.27)})\n",
    "sns.displot(data = predictions_co)\n",
    "sns.displot(data = y_test)"
   ]
  },
  {
   "cell_type": "code",
   "execution_count": 81,
   "metadata": {},
   "outputs": [
    {
     "data": {
      "text/plain": [
       "<AxesSubplot: ylabel='Density'>"
      ]
     },
     "execution_count": 81,
     "metadata": {},
     "output_type": "execute_result"
    },
    {
     "data": {
      "image/png": "[encoded data removed]",
      "text/plain": [
       "<Figure size 842.4x595.44 with 1 Axes>"
      ]
     },
     "metadata": {},
     "output_type": "display_data"
    }
   ],
   "source": [
    "results = pd.DataFrame(predictions_co, columns = ['Predictions'])\n",
    "results[\"Actual\"] = list(y_test[\"CO\"])\n",
    "sns.set(rc={'figure.figsize':(11.7,8.27)})\n",
    "sns.kdeplot(data=results)"
   ]
  },
  {
   "cell_type": "markdown",
   "metadata": {},
   "source": [
    "### Ozone"
   ]
  },
  {
   "cell_type": "code",
   "execution_count": 82,
   "metadata": {},
   "outputs": [
    {
     "data": {
      "text/html": [
       "<div>\n",
       "<style scoped>\n",
       "    .dataframe tbody tr th:only-of-type {\n",
       "        vertical-align: middle;\n",
       "    }\n",
       "\n",
       "    .dataframe tbody tr th {\n",
       "        vertical-align: top;\n",
       "    }\n",
       "\n",
       "    .dataframe thead th {\n",
       "        text-align: right;\n",
       "    }\n",
       "</style>\n",
       "<table border=\"1\" class=\"dataframe\">\n",
       "  <thead>\n",
       "    <tr style=\"text-align: right;\">\n",
       "      <th></th>\n",
       "      <th>month</th>\n",
       "      <th>week</th>\n",
       "      <th>week_day</th>\n",
       "      <th>Ozone</th>\n",
       "    </tr>\n",
       "  </thead>\n",
       "  <tbody>\n",
       "    <tr>\n",
       "      <th>0</th>\n",
       "      <td>8</td>\n",
       "      <td>34</td>\n",
       "      <td>2</td>\n",
       "      <td>15.18</td>\n",
       "    </tr>\n",
       "    <tr>\n",
       "      <th>1</th>\n",
       "      <td>8</td>\n",
       "      <td>34</td>\n",
       "      <td>3</td>\n",
       "      <td>36.86</td>\n",
       "    </tr>\n",
       "    <tr>\n",
       "      <th>2</th>\n",
       "      <td>8</td>\n",
       "      <td>34</td>\n",
       "      <td>4</td>\n",
       "      <td>43.98</td>\n",
       "    </tr>\n",
       "    <tr>\n",
       "      <th>3</th>\n",
       "      <td>8</td>\n",
       "      <td>34</td>\n",
       "      <td>5</td>\n",
       "      <td>40.97</td>\n",
       "    </tr>\n",
       "    <tr>\n",
       "      <th>4</th>\n",
       "      <td>8</td>\n",
       "      <td>34</td>\n",
       "      <td>6</td>\n",
       "      <td>62.44</td>\n",
       "    </tr>\n",
       "  </tbody>\n",
       "</table>\n",
       "</div>"
      ],
      "text/plain": [
       "   month  week  week_day  Ozone\n",
       "0      8    34         2  15.18\n",
       "1      8    34         3  36.86\n",
       "2      8    34         4  43.98\n",
       "3      8    34         5  40.97\n",
       "4      8    34         6  62.44"
      ]
     },
     "execution_count": 82,
     "metadata": {},
     "output_type": "execute_result"
    }
   ],
   "source": [
    "data_ozone = pd.DataFrame()\n",
    "data_ozone[\"month\"] = bidhannagar[\"month\"]\n",
    "data_ozone[\"week\"] = bidhannagar[\"week\"]\n",
    "data_ozone[\"week_day\"] = bidhannagar[\"week_day\"]\n",
    "data_ozone[\"Ozone\"] = bidhannagar[\"Ozone\"]\n",
    "cols = data_ozone.columns\n",
    "data_ozone.head()"
   ]
  },
  {
   "cell_type": "code",
   "execution_count": 83,
   "metadata": {},
   "outputs": [
    {
     "data": {
      "text/html": [
       "<div>\n",
       "<style scoped>\n",
       "    .dataframe tbody tr th:only-of-type {\n",
       "        vertical-align: middle;\n",
       "    }\n",
       "\n",
       "    .dataframe tbody tr th {\n",
       "        vertical-align: top;\n",
       "    }\n",
       "\n",
       "    .dataframe thead th {\n",
       "        text-align: right;\n",
       "    }\n",
       "</style>\n",
       "<table border=\"1\" class=\"dataframe\">\n",
       "  <thead>\n",
       "    <tr style=\"text-align: right;\">\n",
       "      <th></th>\n",
       "      <th>month</th>\n",
       "      <th>week</th>\n",
       "      <th>week_day</th>\n",
       "      <th>Ozone</th>\n",
       "    </tr>\n",
       "  </thead>\n",
       "  <tbody>\n",
       "    <tr>\n",
       "      <th>0</th>\n",
       "      <td>3</td>\n",
       "      <td>10</td>\n",
       "      <td>0</td>\n",
       "      <td>51.70</td>\n",
       "    </tr>\n",
       "    <tr>\n",
       "      <th>1</th>\n",
       "      <td>3</td>\n",
       "      <td>11</td>\n",
       "      <td>1</td>\n",
       "      <td>43.91</td>\n",
       "    </tr>\n",
       "    <tr>\n",
       "      <th>2</th>\n",
       "      <td>9</td>\n",
       "      <td>38</td>\n",
       "      <td>6</td>\n",
       "      <td>13.26</td>\n",
       "    </tr>\n",
       "    <tr>\n",
       "      <th>3</th>\n",
       "      <td>10</td>\n",
       "      <td>41</td>\n",
       "      <td>5</td>\n",
       "      <td>21.01</td>\n",
       "    </tr>\n",
       "    <tr>\n",
       "      <th>4</th>\n",
       "      <td>7</td>\n",
       "      <td>29</td>\n",
       "      <td>1</td>\n",
       "      <td>25.64</td>\n",
       "    </tr>\n",
       "  </tbody>\n",
       "</table>\n",
       "</div>"
      ],
      "text/plain": [
       "   month  week  week_day  Ozone\n",
       "0      3    10         0  51.70\n",
       "1      3    11         1  43.91\n",
       "2      9    38         6  13.26\n",
       "3     10    41         5  21.01\n",
       "4      7    29         1  25.64"
      ]
     },
     "execution_count": 83,
     "metadata": {},
     "output_type": "execute_result"
    }
   ],
   "source": [
    "# shuffling the data set\n",
    "data_ozone = shuffle(data_ozone, random_state=1).reset_index(drop=True)\n",
    "data_ozone.head()"
   ]
  },
  {
   "cell_type": "code",
   "execution_count": 84,
   "metadata": {},
   "outputs": [],
   "source": [
    "duplicate_ozone = data_ozone.copy()"
   ]
  },
  {
   "cell_type": "code",
   "execution_count": 85,
   "metadata": {},
   "outputs": [],
   "source": [
    "#normalizing the dataset\n",
    "data_ozone = preprocessing.normalize(data_ozone,norm='l2')\n",
    "data_ozone = pd.DataFrame(data_ozone, columns=cols)"
   ]
  },
  {
   "cell_type": "code",
   "execution_count": 86,
   "metadata": {},
   "outputs": [],
   "source": [
    "X_o3 = data_ozone.drop('Ozone', axis=1) #data basically refere to the values in the independent columns\n",
    "y_o3 = data_ozone.drop('month', axis=1).drop('week', axis=1).drop('week_day', axis=1)"
   ]
  },
  {
   "cell_type": "code",
   "execution_count": 87,
   "metadata": {},
   "outputs": [],
   "source": [
    "X_train, X_test, y_train, y_test = train_test_split(X_o3, y_o3, test_size=0.2, random_state=42)"
   ]
  },
  {
   "cell_type": "code",
   "execution_count": 88,
   "metadata": {},
   "outputs": [],
   "source": [
    "bidhannagar_ozone_knn = model_knn.fit(X_train, np.ravel(y_train,order='C'))"
   ]
  },
  {
   "cell_type": "code",
   "execution_count": 89,
   "metadata": {},
   "outputs": [],
   "source": [
    "predictions_ozone = bidhannagar_ozone_knn.predict(X_test)"
   ]
  },
  {
   "cell_type": "code",
   "execution_count": 90,
   "metadata": {},
   "outputs": [
    {
     "name": "stdout",
     "output_type": "stream",
     "text": [
      "r2 score for   model is 0.9961246004458556\n"
     ]
    }
   ],
   "source": [
    "r2 = r2_score(y_test, predictions_ozone)\n",
    "print('r2 score for   model is', r2)"
   ]
  },
  {
   "cell_type": "code",
   "execution_count": 91,
   "metadata": {},
   "outputs": [
    {
     "data": {
      "text/plain": [
       "(246,)"
      ]
     },
     "execution_count": 91,
     "metadata": {},
     "output_type": "execute_result"
    }
   ],
   "source": [
    "predictions_ozone.shape"
   ]
  },
  {
   "cell_type": "code",
   "execution_count": 92,
   "metadata": {},
   "outputs": [
    {
     "data": {
      "text/plain": [
       "Ozone    0.013973\n",
       "dtype: float64"
      ]
     },
     "execution_count": 92,
     "metadata": {},
     "output_type": "execute_result"
    }
   ],
   "source": [
    "#RSME - Root Mean Square Error\n",
    "predictions5 = predictions_ozone.reshape(y_test.shape[0],1)\n",
    "np.sqrt(((predictions5 - y_test)**2).mean())"
   ]
  },
  {
   "cell_type": "code",
   "execution_count": 93,
   "metadata": {},
   "outputs": [
    {
     "data": {
      "text/plain": [
       "<seaborn.axisgrid.FacetGrid at 0x15d153ad250>"
      ]
     },
     "execution_count": 93,
     "metadata": {},
     "output_type": "execute_result"
    },
    {
     "data": {
      "image/png": "[encoded data removed]",
      "text/plain": [
       "<Figure size 360x360 with 1 Axes>"
      ]
     },
     "metadata": {},
     "output_type": "display_data"
    },
    {
     "data": {
      "image/png": "[encoded data removed]",
      "text/plain": [
       "<Figure size 431.975x360 with 1 Axes>"
      ]
     },
     "metadata": {},
     "output_type": "display_data"
    }
   ],
   "source": [
    "sns.set(rc={'figure.figsize':(11.7,8.27)})\n",
    "sns.displot(data = predictions_ozone)\n",
    "sns.displot(data = y_test)"
   ]
  },
  {
   "cell_type": "code",
   "execution_count": 94,
   "metadata": {},
   "outputs": [
    {
     "data": {
      "text/plain": [
       "<AxesSubplot: ylabel='Density'>"
      ]
     },
     "execution_count": 94,
     "metadata": {},
     "output_type": "execute_result"
    },
    {
     "data": {
      "image/png": "[encoded data removed]",
      "text/plain": [
       "<Figure size 842.4x595.44 with 1 Axes>"
      ]
     },
     "metadata": {},
     "output_type": "display_data"
    }
   ],
   "source": [
    "results = pd.DataFrame(predictions_ozone, columns = ['Predictions'])\n",
    "results[\"Actual\"] = list(y_test[\"Ozone\"])\n",
    "sns.set(rc={'figure.figsize':(11.7,8.27)})\n",
    "sns.kdeplot(data=results)"
   ]
  },
  {
   "cell_type": "markdown",
   "metadata": {},
   "source": [
    "### Prediction Functions"
   ]
  },
  {
   "cell_type": "code",
   "execution_count": 95,
   "metadata": {},
   "outputs": [],
   "source": [
    "##1. PM2.5 Sub-Index calculation\n",
    "def PM25(x):\n",
    "    if x == \"\" or x == \"NA\" or x == \"None\":\n",
    "        return 0\n",
    "    x = float(x)\n",
    "    \n",
    "    if x <= 30:\n",
    "        return x * 50 / 30\n",
    "    elif x <= 60:\n",
    "        return 50 + (x - 30) * 50 / 30\n",
    "    elif x <= 90:\n",
    "        return 100 + (x - 60) * 100 / 30\n",
    "    elif x <= 120:\n",
    "        return 200 + (x - 90) * 100 / 30\n",
    "    elif x <= 250:\n",
    "        return 300 + (x - 120) * 100 / 130\n",
    "    elif x > 250:\n",
    "        return 400 + (x - 250) * 100 / 130\n",
    "    else:\n",
    "        return 0\n",
    "\n",
    "##2. PM10 Sub-Index calculation\n",
    "def PM10(x):\n",
    "    if x == \"\" or x == \"NA\" or x == \"None\":\n",
    "        return 0\n",
    "    x = float(x)\n",
    "    \n",
    "    if x <= 50:\n",
    "        return x\n",
    "    elif x <= 100:\n",
    "        return x\n",
    "    elif x <= 250:\n",
    "        return 100 + (x - 100) * 100 / 150\n",
    "    elif x <= 350:\n",
    "        return 200 + (x - 250)\n",
    "    elif x <= 430:\n",
    "        return 300 + (x - 350) * 100 / 80\n",
    "    elif x > 430:\n",
    "        return 400 + (x - 430) * 100 / 80\n",
    "    else:\n",
    "        return 0\n",
    "\n",
    "##3. NO2 Sub-Index calculation\n",
    "def NO2(x):\n",
    "    if x == \"\" or x == \"NA\" or x == \"None\":\n",
    "        return 0\n",
    "    x = float(x)\n",
    "    \n",
    "    if x <= 40:\n",
    "        return x * 50 / 40\n",
    "    elif x <= 80:\n",
    "        return 50 + (x - 40) * 50 / 40\n",
    "    elif x <= 180:\n",
    "        return 100 + (x - 80) * 100 / 100\n",
    "    elif x <= 280:\n",
    "        return 200 + (x - 180) * 100 / 100\n",
    "    elif x <= 400:\n",
    "        return 300 + (x - 280) * 100 / 120\n",
    "    elif x > 400:\n",
    "        return 400 + (x - 400) * 100 / 120\n",
    "    else:\n",
    "        return 0\n",
    "\n",
    "\n",
    "##4. NH3 Sub-Index calculation\n",
    "def NH3(x):\n",
    "    if x == \"\" or x == \"NA\" or x == \"None\":\n",
    "        return 0\n",
    "    x = float(x)\n",
    "    \n",
    "    if x <= 200:\n",
    "        return x * 50 / 200\n",
    "    elif x <= 400:\n",
    "        return 50 + (x - 200) * 50 / 200\n",
    "    elif x <= 800:\n",
    "        return 100 + (x - 400) * 100 / 400\n",
    "    elif x <= 1200:\n",
    "        return 200 + (x - 800) * 100 / 400\n",
    "    elif x <= 1800:\n",
    "        return 300 + (x - 1200) * 100 / 600\n",
    "    elif x > 1800:\n",
    "        return 400 + (x - 1800) * 100 / 600\n",
    "    else:\n",
    "        return 0\n",
    "\n",
    "##5. SO2 Sub-Index calculation\n",
    "def SO2(x):\n",
    "    if x == \"\" or x == \"NA\" or x == \"None\":\n",
    "        return 0\n",
    "    x = float(x)\n",
    "    \n",
    "    if x <= 40:\n",
    "        return x * 50 / 40\n",
    "    elif x <= 80:\n",
    "        return 50 + (x - 40) * 50 / 40\n",
    "    elif x <= 380:\n",
    "        return 100 + (x - 80) * 100 / 300\n",
    "    elif x <= 800:\n",
    "        return 200 + (x - 380) * 100 / 420\n",
    "    elif x <= 1600:\n",
    "        return 300 + (x - 800) * 100 / 800\n",
    "    elif x > 1600:\n",
    "        return 400 + (x - 1600) * 100 / 800\n",
    "    else:\n",
    "        return 0\n",
    "\n",
    "##6. CO Sub-Index calculation\n",
    "def CO(x):\n",
    "    if x == \"\" or x == \"NA\" or x == \"None\":\n",
    "        return 0\n",
    "    x = float(x)\n",
    "    \n",
    "    if x <= 1:\n",
    "        return x * 50 / 1\n",
    "    elif x <= 2:\n",
    "        return 50 + (x - 1) * 50 / 1\n",
    "    elif x <= 10:\n",
    "        return 100 + (x - 2) * 100 / 8\n",
    "    elif x <= 17:\n",
    "        return 200 + (x - 10) * 100 / 7\n",
    "    elif x <= 34:\n",
    "        return 300 + (x - 17) * 100 / 17\n",
    "    elif x > 34:\n",
    "        return 400 + (x - 34) * 100 / 17\n",
    "    else:\n",
    "        return 0\n",
    "\n",
    "##7. O3 Sub-Index calculation\n",
    "def O3(x):\n",
    "    if x == \"\" or x == \"NA\" or x == \"None\":\n",
    "        return 0\n",
    "    x = float(x)\n",
    "    \n",
    "    if x <= 50:\n",
    "        return x * 50 / 50\n",
    "    elif x <= 100:\n",
    "        return 50 + (x - 50) * 50 / 50\n",
    "    elif x <= 168:\n",
    "        return 100 + (x - 100) * 100 / 68\n",
    "    elif x <= 208:\n",
    "        return 200 + (x - 168) * 100 / 40\n",
    "    elif x <= 748:\n",
    "        return 300 + (x - 208) * 100 / 539\n",
    "    elif x > 748:\n",
    "        return 400 + (x - 400) * 100 / 539\n",
    "    else:\n",
    "        return 0"
   ]
  },
  {
   "cell_type": "code",
   "execution_count": 96,
   "metadata": {},
   "outputs": [],
   "source": [
    "def aqi(l):\n",
    "    final = max(PM25(l[0]),PM10(l[1]),NO2(l[2]),NH3(l[3]),SO2(l[4]),CO(l[5]),O3(l[6]))\n",
    "    if final >=0 and final<=50:\n",
    "        return([round(final,2),\"Good\"])\n",
    "    elif final>50 and final<=100:\n",
    "        return([round(final,2),\"Satisfactory\"])\n",
    "    elif final>100 and final<= 200:\n",
    "        return([round(final,2),\"Moderately Polluted\"])\n",
    "    elif final>200 and final<=300:\n",
    "        return([round(final,2),\"Poor\"])\n",
    "    elif final>300 and final<=400:\n",
    "        return([round(final,2),\"Very poor\"])\n",
    "    elif final>400:\n",
    "        return([round(final,2),\"Severe\"])"
   ]
  },
  {
   "cell_type": "code",
   "execution_count": 97,
   "metadata": {},
   "outputs": [],
   "source": [
    "def predictor_pm25(query, model_pm25,data_pm25,X):\n",
    "    results = [] \n",
    "    location = data_pm25.loc[(data_pm25['month'] == query[0]) & (data_pm25['week'] == query[1]) & (data_pm25['week_day'] == query[2])].index\n",
    "    for l in list(location):\n",
    "        results.append(model_pm25.predict(X.iloc[l].to_numpy().reshape(1,-1))* np.sqrt(sum(data_pm25.loc[l]**2)))\n",
    "    return(sum(results) / len(results))\n",
    "\n",
    "def predictor_pm10(query, model_pm10,data_pm10,X):\n",
    "    results = [] \n",
    "    location = data_pm10.loc[(data_pm10['month'] == query[0]) & (data_pm10['week'] == query[1]) & (data_pm10['week_day'] == query[2])].index\n",
    "    for l in list(location):\n",
    "        results.append(model_pm10.predict(X.iloc[l].to_numpy().reshape(1,-1))* np.sqrt(sum(data_pm10.loc[l]**2)))\n",
    "    return(sum(results) / len(results))\n",
    "\n",
    "def predictor_no2(query, model_no2, data_no2,X):\n",
    "    results = []\n",
    "    location = data_no2.loc[(data_no2['month'] == query[0]) & (data_no2['week'] == query[1]) & (data_no2['week_day'] == query[2])].index\n",
    "    for l in list(location):\n",
    "        results.append(model_no2.predict(X.iloc[l].to_numpy().reshape(1,-1))* np.sqrt(sum(data_no2.loc[l]**2)))\n",
    "    return(sum(results) / len(results))\n",
    "\n",
    "def predictor_nh3(query, model_nh3, data_nh3,X):\n",
    "    results = [] \n",
    "    location = data_nh3.loc[(data_nh3['month'] == query[0]) & (data_nh3['week'] == query[1]) & (data_nh3['week_day'] == query[2])].index\n",
    "    for l in list(location):\n",
    "        results.append(model_nh3.predict(X.iloc[l].to_numpy().reshape(1,-1))* np.sqrt(sum(data_nh3.loc[l]**2)))\n",
    "    return(sum(results) / len(results))\n",
    "\n",
    "def predictor_so2(query, model_so2,data_so2,X):\n",
    "    results = [] \n",
    "    location = data_so2.loc[(data_so2['month'] == query[0]) & (data_so2['week'] == query[1]) & (data_so2['week_day'] == query[2])].index\n",
    "    for l in list(location):\n",
    "        results.append(model_so2.predict(X.iloc[l].to_numpy().reshape(1,-1))* np.sqrt(sum(data_so2.loc[l]**2)))\n",
    "    return(sum(results) / len(results))\n",
    "\n",
    "def predictor_co(query, model_co,data_co,X):\n",
    "    results = [] \n",
    "    location = data_co.loc[(data_co['month'] == query[0]) & (data_co['week'] == query[1]) & (data_co['week_day'] == query[2])].index\n",
    "    for l in list(location):\n",
    "        results.append(model_co.predict(np.array(query).reshape(1,-1)))\n",
    "    return(sum(results) / len(results))\n",
    "\n",
    "def predictor_o3(query, model_o3,data_o3,X):\n",
    "    results = []\n",
    "    location = data_o3.loc[(data_o3['month'] == query[0]) & (data_o3['week'] == query[1]) & (data_o3['week_day'] == query[2])].index\n",
    "    for l in list(location):\n",
    "        results.append(model_o3.predict(X.iloc[l].to_numpy().reshape(1,-1))* np.sqrt(sum(data_o3.loc[l]**2)))\n",
    "    return(sum(results) / len(results))"
   ]
  },
  {
   "cell_type": "code",
   "execution_count": 98,
   "metadata": {},
   "outputs": [],
   "source": [
    "def precal(date, model_pm25,model_pm10,model_no2,model_nh3,model_so2,model_co,model_o3,data_pm25,data_pm10,data_no2, data_nh3,data_so2,data_co,data_o3,X_pm25,X_pm10,X_no2,X_nh3,X_so2,X_co,X_o3):\n",
    "    query = []\n",
    "    result = []\n",
    "    date = pd.DataFrame(date)\n",
    "    date[0] = pd.to_datetime(date[0],format=\"%Y-%m-%d\")\n",
    "    query.append(list(date[0].dt.month)[0])\n",
    "    query.append(list(date[0].dt.strftime('%V').astype('int64'))[0])\n",
    "    query.append(list(date[0].dt.weekday)[0])\n",
    "    result.append(predictor_pm25(query,model_pm25, data_pm25,X_pm25))\n",
    "    result.append(predictor_pm10(query,model_pm10, data_pm10,X_pm10))\n",
    "    result.append(predictor_no2(query,model_no2, data_no2,X_no2))\n",
    "    result.append(predictor_nh3(query,model_nh3, data_nh3,X_nh3))\n",
    "    result.append(predictor_so2(query,model_so2, data_so2,X_so2))\n",
    "    result.append(predictor_co(query,model_co, data_co,X_co))\n",
    "    result.append(predictor_o3(query,model_o3, data_o3,X_o3))\n",
    "    ans = aqi(result)\n",
    "    print(\"Expected:-\\nPM 2.5: \" + str(result[0])+\"\\nPM 10: \" + str(result[1])+\"\\nNO2: \" + str(result[2])+\"\\nNH3: \" + str(result[3])+\"\\nSO2: \" + str(result[4])+\"\\nCO: \" + str(result[5])+\"\\nO3: \" + str(result[6]))\n",
    "    print(\"\\nThe AQI value is expected to be arouynd \" + str(ans[0]) + \" and the index is expected to be \" + ans[1])\n",
    "    "
   ]
  },
  {
   "cell_type": "code",
   "execution_count": 99,
   "metadata": {},
   "outputs": [
    {
     "name": "stdout",
     "output_type": "stream",
     "text": [
      "Expected:-\n",
      "PM 2.5: [10.37987292]\n",
      "PM 10: [29.31027579]\n",
      "NO2: [9.24645545]\n",
      "NH3: [9.38021978]\n",
      "SO2: [8.48198417]\n",
      "CO: [0.20675996]\n",
      "O3: [24.4623452]\n",
      "\n",
      "The AQI value is expected to be arouynd 29.31 and the index is expected to be Good\n"
     ]
    }
   ],
   "source": [
    "warnings.filterwarnings(action='ignore', category=FutureWarning) # setting ignore as a parameter and further adding category\n",
    "warnings.filterwarnings(action='ignore', category=UserWarning) # setting ignore as a parameter and further adding category\n",
    "precal([\"2019-08-30\"],bidhannagar_pm25_knn,bidhannagar_pm10_model_knn,bidhannagar_no2_knn,bidhannagar_nh3_knn,bidhannagar_so2_knn,bidhannagar_co_knn,bidhannagar_ozone_knn,duplicate_pm25,duplicate_pm10,duplicate_no2,duplicate_nh3,duplicate_so2,duplicate_co,duplicate_ozone,X_pm25,X_pm10,X_no2,X_nh3,X_so2,X_co,X_o3)"
   ]
  }
 ],
 "metadata": {
  "kernelspec": {
   "display_name": "Python 3",
   "language": "python",
   "name": "python3"
  },
  "language_info": {
   "codemirror_mode": {
    "name": "ipython",
    "version": 3
   },
   "file_extension": ".py",
   "mimetype": "text/x-python",
   "name": "python",
   "nbconvert_exporter": "python",
   "pygments_lexer": "ipython3",
   "version": "3.9.2"
  },
  "orig_nbformat": 4
 },
 "nbformat": 4,
 "nbformat_minor": 2
}
